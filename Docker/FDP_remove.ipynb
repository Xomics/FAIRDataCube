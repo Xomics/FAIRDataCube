{
 "cells": [
  {
   "cell_type": "raw",
   "id": "33e9fbfc-957f-4c4f-af54-813de5ef97bd",
   "metadata": {},
   "source": [
    "Scripts to interact with fdp.cmbi.umcn.nl\n",
    "\n",
    "delete the datasets uploaded Date: 18 Feb 2022 XiaoFeng Liao"
   ]
  },
  {
   "cell_type": "code",
   "execution_count": null,
   "id": "e9487c20-e2ce-4e6c-8b21-20ca4cc5a441",
   "metadata": {},
   "outputs": [],
   "source": [
    "################## \n",
    "# USE WITH CAUTION!\n",
    "# USE WITH CAUTION!\n",
    "##################\n",
    "\n",
    "# 9 Mar,2022\n",
    "# this cell delete from fdp.cmbi.umcn.nl the datasets which were previously uploaded\n",
    "\n",
    "\n",
    "headers = {\n",
    "    'accept': 'application/ld+json',\n",
    "    'Authorization': 'Bearer ' + access_token,\n",
    "}\n",
    "\n",
    "response = requests.get('https://fdp.cmbi.umcn.nl/catalog/2f807498-1fb7-4ebb-8d1b-2c33d719fb71', headers=headers)\n",
    "json_data = json.loads(response.text)\n",
    "#print(response.text)\n",
    "#print(type(json_data))\n",
    "#print(json_data)\n",
    "#print(type(json_data[2]))\n",
    "#print(json_data[2])\n",
    "for dataset in json_data[2]['http://www.w3.org/ns/dcat#dataset']:\n",
    "#     print(type(dataset))\n",
    "#     print(dataset['@id'])\n",
    "    url = dataset['@id']\n",
    "#    print(type(url))\n",
    "    print(url)\n",
    "    print()\n",
    "\n",
    "    headers = {\n",
    "        'accept': '*/*',\n",
    "        'Authorization': 'Bearer ' + access_token\n",
    "    }\n",
    "    response = requests.delete(url, headers=headers)"
   ]
  }
 ],
 "metadata": {
  "celltoolbar": "Tags",
  "kernelspec": {
   "display_name": "Python 3 (ipykernel)",
   "language": "python",
   "name": "python3"
  },
  "language_info": {
   "codemirror_mode": {
    "name": "ipython",
    "version": 3
   },
   "file_extension": ".py",
   "mimetype": "text/x-python",
   "name": "python",
   "nbconvert_exporter": "python",
   "pygments_lexer": "ipython3",
   "version": "3.10.4"
  }
 },
 "nbformat": 4,
 "nbformat_minor": 5
}
