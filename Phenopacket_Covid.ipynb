{
 "cells": [
  {
   "cell_type": "code",
   "execution_count": 1,
   "id": "0796d08a",
   "metadata": {},
   "outputs": [
    {
     "name": "stdout",
     "output_type": "stream",
     "text": [
      "Collecting phenopackets\n",
      "  Using cached phenopackets-2.0.0-py3-none-any.whl (45 kB)\n",
      "Requirement already satisfied: xmltodict==0.12.0 in c:\\users\\manz515245\\anaconda3\\lib\\site-packages (from phenopackets) (0.12.0)\n",
      "Collecting protobuf==3.15.0\n",
      "  Using cached protobuf-3.15.0-py2.py3-none-any.whl (173 kB)\n",
      "Requirement already satisfied: six>=1.9 in c:\\users\\manz515245\\anaconda3\\lib\\site-packages (from protobuf==3.15.0->phenopackets) (1.16.0)\n",
      "Installing collected packages: protobuf, phenopackets\n",
      "Successfully installed phenopackets-2.0.0 protobuf-3.15.0\n",
      "Note: you may need to restart the kernel to use updated packages.\n"
     ]
    }
   ],
   "source": [
    "pip install phenopackets"
   ]
  },
  {
   "cell_type": "code",
   "execution_count": 2,
   "id": "a2dc376c",
   "metadata": {},
   "outputs": [
    {
     "name": "stdout",
     "output_type": "stream",
     "text": [
      "Requirement already satisfied: phenopackets in c:\\users\\manz515245\\anaconda3\\lib\\site-packages (2.0.0)\n",
      "Requirement already satisfied: protobuf==3.15.0 in c:\\users\\manz515245\\anaconda3\\lib\\site-packages (from phenopackets) (3.15.0)\n",
      "Requirement already satisfied: xmltodict==0.12.0 in c:\\users\\manz515245\\anaconda3\\lib\\site-packages (from phenopackets) (0.12.0)\n",
      "Requirement already satisfied: six>=1.9 in c:\\users\\manz515245\\anaconda3\\lib\\site-packages (from protobuf==3.15.0->phenopackets) (1.16.0)\n",
      "Note: you may need to restart the kernel to use updated packages.\n"
     ]
    }
   ],
   "source": [
    "pip install phenopackets"
   ]
  },
  {
   "cell_type": "code",
   "execution_count": 7,
   "id": "002c3c23",
   "metadata": {},
   "outputs": [],
   "source": [
    "import os\n",
    "import unittest\n",
    "\n",
    "from google.protobuf.json_format import Parse, MessageToJson\n",
    "from google.protobuf.timestamp_pb2 import Timestamp\n",
    "\n",
    "from phenopackets import Individual, Sex, PhenotypicFeature, OntologyClass, Phenopacket\n",
    "\n",
    "subject = Individual(id=\"Zaphod\", sex=\"MALE\", date_of_birth=Timestamp(seconds=-123456798))\n",
    "phenotypic_features = [PhenotypicFeature(type=OntologyClass(id=\"HG2G:00001\", label=\"Hoopy\")),\n",
    "                       PhenotypicFeature(type=OntologyClass(id=\"HG2G:00002\", label=\"Frood\"))]\n",
    "phenopacket = Phenopacket(id=\"PPKT:1\", subject=subject, phenotypic_features=phenotypic_features)\n",
    "test_json_file = \"test.json\"\n",
    "with open(test_json_file, 'w') as jsfile:\n",
    "    jsfile.write(MessageToJson(phenopacket))"
   ]
  },
  {
   "cell_type": "code",
   "execution_count": null,
   "id": "4c3abf7a",
   "metadata": {},
   "outputs": [],
   "source": []
  }
 ],
 "metadata": {
  "kernelspec": {
   "display_name": "Python 3 (ipykernel)",
   "language": "python",
   "name": "python3"
  },
  "language_info": {
   "codemirror_mode": {
    "name": "ipython",
    "version": 3
   },
   "file_extension": ".py",
   "mimetype": "text/x-python",
   "name": "python",
   "nbconvert_exporter": "python",
   "pygments_lexer": "ipython3",
   "version": "3.9.7"
  }
 },
 "nbformat": 4,
 "nbformat_minor": 5
}
