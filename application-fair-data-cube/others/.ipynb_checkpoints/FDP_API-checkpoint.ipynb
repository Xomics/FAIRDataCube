{
 "cells": [
  {
   "cell_type": "code",
   "execution_count": 1,
   "id": "6ded01e9",
   "metadata": {
    "scrolled": false
   },
   "outputs": [
    {
     "ename": "KeyError",
     "evalue": "'token'",
     "output_type": "error",
     "traceback": [
      "\u001b[1;31m---------------------------------------------------------------------------\u001b[0m",
      "\u001b[1;31mKeyError\u001b[0m                                  Traceback (most recent call last)",
      "\u001b[1;32mC:\\Users\\MANZ51~1\\AppData\\Local\\Temp/ipykernel_32184/1087883138.py\u001b[0m in \u001b[0;36m<module>\u001b[1;34m\u001b[0m\n\u001b[0;32m     25\u001b[0m \u001b[0mdata\u001b[0m \u001b[1;33m=\u001b[0m \u001b[0mresponse\u001b[0m\u001b[1;33m.\u001b[0m\u001b[0mjson\u001b[0m\u001b[1;33m(\u001b[0m\u001b[1;33m)\u001b[0m\u001b[1;33m\u001b[0m\u001b[1;33m\u001b[0m\u001b[0m\n\u001b[0;32m     26\u001b[0m \u001b[1;31m#print(data)\u001b[0m\u001b[1;33m\u001b[0m\u001b[1;33m\u001b[0m\u001b[0m\n\u001b[1;32m---> 27\u001b[1;33m \u001b[0maccess_token\u001b[0m \u001b[1;33m=\u001b[0m \u001b[0mdata\u001b[0m\u001b[1;33m[\u001b[0m\u001b[1;34m\"token\"\u001b[0m\u001b[1;33m]\u001b[0m\u001b[1;33m\u001b[0m\u001b[1;33m\u001b[0m\u001b[0m\n\u001b[0m\u001b[0;32m     28\u001b[0m \u001b[1;33m\u001b[0m\u001b[0m\n\u001b[0;32m     29\u001b[0m \u001b[1;33m\u001b[0m\u001b[0m\n",
      "\u001b[1;31mKeyError\u001b[0m: 'token'"
     ]
    }
   ],
   "source": [
    "import requests\n",
    "import json\n",
    "\n",
    "\n",
    "\n",
    "\n",
    "username = \"xxxxx\"\n",
    "password = \"xxxxx\"\n",
    "\n",
    "my_headers = {'content-type':'application/json'}\n",
    "json_data = json.dumps({\n",
    "   \"email\": username,\n",
    "   \"password\": password\n",
    " })\n",
    "\n",
    "# make an http-call to obtain a JWT-token\n",
    "#response = requests.post(\"https://fdp.x-omics.nl/tokens\", json_data, auth=('xxxx','xxxx'), headers=my_headers)\n",
    "response = requests.post(\"https://fdp.x-omics.nl/tokens\", json_data, headers=my_headers)\n",
    " \n",
    "\n",
    "#print(response)\n",
    "#print(response.json())\n",
    "\n",
    "# extract JWT access token\n",
    "data = response.json()\n",
    "#print(data)\n",
    "access_token = data[\"token\"]\n",
    "\n",
    "\n",
    "print(access_token)"
   ]
  },
  {
   "cell_type": "code",
   "execution_count": 18,
   "id": "f3ef1c25",
   "metadata": {},
   "outputs": [
    {
     "name": "stdout",
     "output_type": "stream",
     "text": [
      "<Response [400]>\n"
     ]
    }
   ],
   "source": [
    "headers = {\n",
    "    'Authorization': 'Bearer xxxxxxxxx',\n",
    "    'Content-Type': 'text/turtle',\n",
    "}\n",
    "\n",
    "#data = open('metadata.ttl')\n",
    "file_path = 'metadata.ttl'\n",
    "response = requests.post('https://fdp.x-omics.nl/dataset/', headers=headers, data=open(file_path,'r', encoding='utf-8').read())\n",
    "print(response)"
   ]
  },
  {
   "cell_type": "code",
   "execution_count": 19,
   "id": "e3452859",
   "metadata": {},
   "outputs": [
    {
     "name": "stdout",
     "output_type": "stream",
     "text": [
      "@prefix dcterms: <http://purl.org/dc/terms/> .\n",
      "@prefix dcat: <http://www.w3.org/ns/dcat#> .\n",
      "@prefix foaf: <http://xmlns.com/foaf/0.1/> .\n",
      "@prefix xsd: <http://www.w3.org/2001/XMLSchema#> .\n",
      "@prefix ldp: <http://www.w3.org/ns/ldp#> .\n",
      "\n",
      "<https://fdp.x-omics.nl/dataset/44efdc76-8157-4b3a-8abc-70f167c78e54> a dcat:Resource,\n",
      "    dcat:Dataset;\n",
      "  dcterms:accessRights <https://fdp.x-omics.nl/CovidDataset/44d9d97d-37bc-46e9-92d8-d18fdd5c6d73#accessRights>;\n",
      "  dcterms:language <http://id.loc.gov/vocabulary/iso639-1/en>;\n",
      "  dcterms:license <http://rdflicense.appspot.com/rdflicense/cc-by-nc-nd3.0>;\n",
      "  dcat:theme <http://www.wikidata.org/entity/Q14944328>;\n",
      "  dcterms:isPartOf <https://fdp.x-omics.nl/catalog/c6c73d4f-97bb-40e7-9068-e1eeadf1f2a4>;\n",
      "  dcterms:rights <http://rdflicense.appspot.com/rdflicense/cc-by-nc-nd3.0>;\n",
      "  <http://edamontology.org/data_1188> <https://doi.org/10.1016/j.cell.2020.10.037>;\n",
      "  <http://purl.obolibrary.org/obo/ExO_0000105> \"33.7\";\n",
      "  <http://purl.obolibrary.org/obo/GECKO_0000061> \"Caucasian\";\n",
      "  <http://purl.obolibrary.org/obo/HP_0006510> \"No\";\n",
      "  <http://purl.obolibrary.org/obo/MONDO_0100096> \"Yes\";\n",
      "  <http://purl.obolibrary.org/obo/NCIT_C121113> \"none\";\n",
      "  <http://purl.obolibrary.org/obo/NCIT_C154329> \"Never\";\n",
      "  <http://purl.obolibrary.org/obo/NCIT_C16960> \"Yes\";\n",
      "  <http://purl.obolibrary.org/obo/NCIT_C173069> \"Yes\";\n",
      "  <http://purl.obolibrary.org/obo/NCIT_C176422> \"none\";\n",
      "  <http://purl.obolibrary.org/obo/NCIT_C178899> \"3.0\";\n",
      "  <http://purl.obolibrary.org/obo/NCIT_C28397> \"No\";\n",
      "  <http://purl.obolibrary.org/obo/NCIT_C28421> \"Female\";\n",
      "  <http://purl.obolibrary.org/obo/NCIT_C2985> \"none\";\n",
      "  <http://purl.obolibrary.org/obo/NCIT_C37908> \"77\";\n",
      "  <http://purl.obolibrary.org/obo/NCIT_C41189> \"INCOV001\";\n",
      "  <http://purl.obolibrary.org/obo/NCIT_C53511> \"No\";\n",
      "  <http://purl.obolibrary.org/obo/NCIT_C64548> \"none\";\n",
      "  <http://purl.obolibrary.org/obo/NCIT_C70909> \"No\";\n",
      "  <http://purl.obolibrary.org/obo/NCIT_C74737> \"none\";\n",
      "  <http://purl.obolibrary.org/obo/NCIT_C74834> \"none\";\n",
      "  <http://www.example.com/resources/InvestigationContact> \"Hospital\";\n",
      "  dcterms:description \"IMA1601\";\n",
      "  dcterms:hasVersion \"1.0\";\n",
      "  dcterms:publisher [ a foaf:Agent;\n",
      "      foaf:name \"XiaoFeng Liao\"\n",
      "    ];\n",
      "  dcterms:title \"IMA1601\";\n",
      "  dcterms:conformsTo <https://fdp.x-omics.nl/profile/d9d8ae37-4442-4255-8616-da716acfa217>;\n",
      "  <http://rdf.biosemantics.org/ontologies/fdp-o#metadataIdentifier> <https://fdp.x-omics.nl/dataset/44efdc76-8157-4b3a-8abc-70f167c78e54#identifier>;\n",
      "  <http://www.w3.org/2000/01/rdf-schema#label> \"IMA1601\";\n",
      "  <http://semanticscience.org/resource/SIO_000628> <https://fdp.x-omics.nl/dataset/44efdc76-8157-4b3a-8abc-70f167c78e54/metrics/445c0a70d1e214e545b261559e2842f4>,\n",
      "    <https://fdp.x-omics.nl/dataset/44efdc76-8157-4b3a-8abc-70f167c78e54/metrics/5d27e854a9e78eb3f663331cd47cdc13>;\n",
      "  <http://rdf.biosemantics.org/ontologies/fdp-o#metadataIssued> \"2022-01-31T16:28:33.618683397Z\"^^xsd:dateTime;\n",
      "  <http://rdf.biosemantics.org/ontologies/fdp-o#metadataModified> \"2022-01-31T16:28:33.618683397Z\"^^xsd:dateTime .\n",
      "\n",
      "<https://fdp.x-omics.nl/CovidDataset/44d9d97d-37bc-46e9-92d8-d18fdd5c6d73#accessRights>\n",
      "  a dcterms:RightsStatement;\n",
      "  dcterms:description \"This resource has no access restriction\" .\n",
      "\n",
      "<https://fdp.x-omics.nl/CovidDataset/44d9d97d-37bc-46e9-92d8-d18fdd5c6d73#identifier>\n",
      "  a <http://purl.org/spar/datacite/Identifier>;\n",
      "  dcterms:identifier \"https://fdp.x-omics.nl/CovidDataset/44d9d97d-37bc-46e9-92d8-d18fdd5c6d73\" .\n",
      "\n",
      "<https://fdp.x-omics.nl/distribution/> a ldp:DirectContainer;\n",
      "  dcterms:title \"Distribution\";\n",
      "  ldp:membershipResource <https://fdp.x-omics.nl/CovidDataset/44d9d97d-37bc-46e9-92d8-d18fdd5c6d73>;\n",
      "  ldp:hasMemberRelation dcat:distribution;\n",
      "  ldp:contains <https://fdp.x-omics.nl/distribution/9273d15d-4378-468f-9c2b-ca8a0be88fb7> .\n",
      "\n",
      "<https://fdp.x-omics.nl/profile/d9d8ae37-4442-4255-8616-da716acfa217> <http://www.w3.org/2000/01/rdf-schema#label>\n",
      "    \"CovidDataset Profile\" .\n",
      "\n",
      "<https://fdp.x-omics.nl/dataset/44efdc76-8157-4b3a-8abc-70f167c78e54#identifier> a\n",
      "    <http://purl.org/spar/datacite/Identifier>;\n",
      "  dcterms:identifier \"https://fdp.x-omics.nl/dataset/44efdc76-8157-4b3a-8abc-70f167c78e54\" .\n",
      "\n",
      "<https://fdp.x-omics.nl/dataset/44efdc76-8157-4b3a-8abc-70f167c78e54/metrics/445c0a70d1e214e545b261559e2842f4>\n",
      "  <http://semanticscience.org/resource/SIO_000332> <https://www.ietf.org/rfc/rfc3986.txt>;\n",
      "  <http://semanticscience.org/resource/SIO_000628> <https://www.ietf.org/rfc/rfc3986.txt> .\n",
      "\n",
      "<https://fdp.x-omics.nl/dataset/44efdc76-8157-4b3a-8abc-70f167c78e54/metrics/5d27e854a9e78eb3f663331cd47cdc13>\n",
      "  <http://semanticscience.org/resource/SIO_000332> <https://www.wikidata.org/wiki/Q8777>;\n",
      "  <http://semanticscience.org/resource/SIO_000628> <https://www.wikidata.org/wiki/Q8777> .\n",
      "\n"
     ]
    }
   ],
   "source": [
    "import requests\n",
    "\n",
    "url = \"https://fdp.x-omics.nl/dataset\"\n",
    "\n",
    "payload = \"@prefix dcterms: <http://purl.org/dc/terms/> .\\r\\n@prefix dcat: <http://www.w3.org/ns/dcat#> .\\r\\n@prefix foaf: <http://xmlns.com/foaf/0.1/> .\\r\\n@prefix xsd: <http://www.w3.org/2001/XMLSchema#> .\\r\\n@prefix ldp: <http://www.w3.org/ns/ldp#> .\\r\\n\\r\\n<https://fdp.x-omics.nl/CovidDataset/44d9d97d-37bc-46e9-92d8-d18fdd5c6d73> a dcat:Resource,\\r\\n    <http://purl.org/biosemantics-lumc/ontologies/dcat-extension/CovidDataset>;\\r\\n  dcterms:accessRights <https://fdp.x-omics.nl/CovidDataset/44d9d97d-37bc-46e9-92d8-d18fdd5c6d73#accessRights>;\\r\\n  dcterms:language <http://id.loc.gov/vocabulary/iso639-1/en>;\\r\\n  dcterms:license <http://rdflicense.appspot.com/rdflicense/cc-by-nc-nd3.0>;\\r\\n  <http://rdf.biosemantics.org/ontologies/fdp-o#metadataIdentifier> <https://fdp.x-omics.nl/CovidDataset/44d9d97d-37bc-46e9-92d8-d18fdd5c6d73#identifier>;\\r\\n  <http://rdf.biosemantics.org/ontologies/fdp-o#metadataIssued> \\\"2022-01-11T22:54:49.586Z\\\"^^xsd:dateTime;\\r\\n  <http://rdf.biosemantics.org/ontologies/fdp-o#metadataModified> \\\"2022-01-11T22:56:16.415Z\\\"^^xsd:dateTime;\\r\\n  dcat:theme <http://www.wikidata.org/entity/Q14944328> ;\\r\\n  dcterms:isPartOf <https://fdp.x-omics.nl/catalog/c6c73d4f-97bb-40e7-9068-e1eeadf1f2a4>;\\r\\n  dcterms:rights <http://rdflicense.appspot.com/rdflicense/cc-by-nc-nd3.0>;\\r\\n  <http://semanticscience.org/resource/SIO_000628> <https://fdp.x-omics.nl/CovidDataset/44d9d97d-37bc-46e9-92d8-d18fdd5c6d73/metrics/445c0a70d1e214e545b261559e2842f4>,\\r\\n    <https://fdp.x-omics.nl/CovidDataset/44d9d97d-37bc-46e9-92d8-d18fdd5c6d73/metrics/5d27e854a9e78eb3f663331cd47cdc13>;\\r\\n  <http://edamontology.org/data_1188> <https://doi.org/10.1016/j.cell.2020.10.037>;\\r\\n  <http://purl.obolibrary.org/obo/ExO_0000105> \\\"33.7\\\";\\r\\n  <http://purl.obolibrary.org/obo/GECKO_0000061> \\\"Caucasian\\\";\\r\\n  <http://purl.obolibrary.org/obo/HP_0006510> \\\"No\\\";\\r\\n  <http://purl.obolibrary.org/obo/MONDO_0100096> \\\"Yes\\\";\\r\\n  <http://purl.obolibrary.org/obo/NCIT_C121113> \\\"none\\\";\\r\\n  <http://purl.obolibrary.org/obo/NCIT_C154329> \\\"Never\\\";\\r\\n  <http://purl.obolibrary.org/obo/NCIT_C16960> \\\"Yes\\\";\\r\\n  <http://purl.obolibrary.org/obo/NCIT_C173069> \\\"Yes\\\";\\r\\n  <http://purl.obolibrary.org/obo/NCIT_C176422> \\\"none\\\";\\r\\n  <http://purl.obolibrary.org/obo/NCIT_C178899> \\\"3.0\\\";\\r\\n  <http://purl.obolibrary.org/obo/NCIT_C28397> \\\"No\\\";\\r\\n  <http://purl.obolibrary.org/obo/NCIT_C28421> \\\"Female\\\";\\r\\n  <http://purl.obolibrary.org/obo/NCIT_C2985> \\\"none\\\";\\r\\n  <http://purl.obolibrary.org/obo/NCIT_C37908> \\\"77\\\";\\r\\n  <http://purl.obolibrary.org/obo/NCIT_C41189> \\\"INCOV001\\\";\\r\\n  <http://purl.obolibrary.org/obo/NCIT_C53511> \\\"No\\\";\\r\\n  <http://purl.obolibrary.org/obo/NCIT_C64548> \\\"none\\\";\\r\\n  <http://purl.obolibrary.org/obo/NCIT_C70909> \\\"No\\\";\\r\\n  <http://purl.obolibrary.org/obo/NCIT_C74737> \\\"none\\\";\\r\\n  <http://purl.obolibrary.org/obo/NCIT_C74834> \\\"none\\\";\\r\\n  <http://www.example.com/resources/InvestigationContact> \\\"Hospital\\\";\\r\\n  dcat:distribution <https://fdp.x-omics.nl/distribution/9273d15d-4378-468f-9c2b-ca8a0be88fb7>;\\r\\n  <http://www.w3.org/2000/01/rdf-schema#label> \\\"IMA1601\\\";\\r\\n  dcterms:description \\\"IMA1601\\\";\\r\\n  dcterms:hasVersion \\\"1.0\\\";\\r\\n  dcterms:publisher [ a foaf:Agent;\\r\\n      foaf:name \\\"XiaoFeng Liao\\\"\\r\\n    ];\\r\\n  dcterms:title \\\"IMA1601\\\";\\r\\n  dcterms:conformsTo <https://fdp.x-omics.nl/profile/d9d8ae37-4442-4255-8616-da716acfa217> .\\r\\n\\r\\n<https://fdp.x-omics.nl/CovidDataset/44d9d97d-37bc-46e9-92d8-d18fdd5c6d73/metrics/445c0a70d1e214e545b261559e2842f4>\\r\\n  <http://semanticscience.org/resource/SIO_000332> <https://www.ietf.org/rfc/rfc3986.txt>;\\r\\n  <http://semanticscience.org/resource/SIO_000628> <https://www.ietf.org/rfc/rfc3986.txt> .\\r\\n\\r\\n<https://fdp.x-omics.nl/CovidDataset/44d9d97d-37bc-46e9-92d8-d18fdd5c6d73/metrics/5d27e854a9e78eb3f663331cd47cdc13>\\r\\n  <http://semanticscience.org/resource/SIO_000332> <https://www.wikidata.org/wiki/Q8777>;\\r\\n  <http://semanticscience.org/resource/SIO_000628> <https://www.wikidata.org/wiki/Q8777> .\\r\\n\\r\\n<https://fdp.x-omics.nl/CovidDataset/44d9d97d-37bc-46e9-92d8-d18fdd5c6d73#accessRights>\\r\\n  a dcterms:RightsStatement;\\r\\n  dcterms:description \\\"This resource has no access restriction\\\" .\\r\\n\\r\\n<https://fdp.x-omics.nl/CovidDataset/44d9d97d-37bc-46e9-92d8-d18fdd5c6d73#identifier>\\r\\n  a <http://purl.org/spar/datacite/Identifier>;\\r\\n  dcterms:identifier \\\"https://fdp.x-omics.nl/CovidDataset/44d9d97d-37bc-46e9-92d8-d18fdd5c6d73\\\" .\\r\\n\\r\\n<https://fdp.x-omics.nl/distribution/> a ldp:DirectContainer;\\r\\n  dcterms:title \\\"Distribution\\\";\\r\\n  ldp:membershipResource <https://fdp.x-omics.nl/CovidDataset/44d9d97d-37bc-46e9-92d8-d18fdd5c6d73>;\\r\\n  ldp:hasMemberRelation dcat:distribution;\\r\\n  ldp:contains <https://fdp.x-omics.nl/distribution/9273d15d-4378-468f-9c2b-ca8a0be88fb7> .\\r\\n\\r\\n<https://fdp.x-omics.nl/profile/d9d8ae37-4442-4255-8616-da716acfa217> <http://www.w3.org/2000/01/rdf-schema#label>\\r\\n    \\\"CovidDataset Profile\\\" .\"\n",
    "headers = {\n",
    "  'Authorization': 'Bearer xxxxxxxx',\n",
    "  'Content-Type': 'text/turtle'\n",
    "}\n",
    "\n",
    "response = requests.request(\"POST\", url, headers=headers, data=payload)\n",
    "\n",
    "print(response.text)\n"
   ]
  },
  {
   "cell_type": "code",
   "execution_count": null,
   "id": "34839694",
   "metadata": {},
   "outputs": [],
   "source": []
  },
  {
   "cell_type": "code",
   "execution_count": null,
   "id": "7d80223b",
   "metadata": {},
   "outputs": [],
   "source": []
  }
 ],
 "metadata": {
  "kernelspec": {
   "display_name": "Python 3 (ipykernel)",
   "language": "python",
   "name": "python3"
  },
  "language_info": {
   "codemirror_mode": {
    "name": "ipython",
    "version": 3
   },
   "file_extension": ".py",
   "mimetype": "text/x-python",
   "name": "python",
   "nbconvert_exporter": "python",
   "pygments_lexer": "ipython3",
   "version": "3.9.7"
  }
 },
 "nbformat": 4,
 "nbformat_minor": 5
}
